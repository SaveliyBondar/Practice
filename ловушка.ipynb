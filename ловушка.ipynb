from IPython.display import Image
Image("https://sun1-91.userapi.com/-ziPZVDIjnUPOcdcpGPYi1qbcjegfPChbCYzVA/PLDvGMK6anc.jpg")
